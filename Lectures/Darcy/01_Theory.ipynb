{
 "cells": [
  {
   "cell_type": "markdown",
   "id": "9cfd551f",
   "metadata": {},
   "source": [
    "<img src='../IMAGES/TUD_logo.png' align='right' width='15%'></img>"
   ]
  },
  {
   "cell_type": "markdown",
   "id": "0c06e163",
   "metadata": {},
   "source": [
    "# Darcy's Law\n",
    "\n",
    "## Theory\n",
    "\n",
    "By the mid of 19th century Henry Darcy proposed a theory that relates hydraulic head with the flux of water through a porous medium. This is known as Darcy's Law, here for 1D:\n",
    "\n",
    "$q = -\\frac{h_2 - h_1}{x_2 - x1} k = -\\frac{\\Delta h}{\\Delta x} k$\n",
    "\n",
    "Darcy's Law constitutes one of the most important laws to describe groundwater flow. $x_1$ and $x_2$ describes the position of the two applied hydraulic heads $h_1$ and $h_2$, respectively. $q$ is the resulting flux through the medium. $k$ is the so-called hydraulic conductivity. In the next section you will learn more about the meaning and application of Darcy's Law and its constituents. \n",
    "\n",
    "## Application\n",
    "\n"
   ]
  },
  {
   "cell_type": "markdown",
   "id": "3f95359a",
   "metadata": {
    "tags": [
     "<iframe>"
    ]
   },
   "source": [
    "<!-- blank line -->\n",
    "<figure class=\"video_container\">\n",
    "  <iframe src=\"https://www.youtube.com/watch?v=KPmklXGd-18\" frameborder=\"0\" allowfullscreen=\"true\"> </iframe>\n",
    "</figure>\n",
    "<!-- blank line -->"
   ]
  },
  {
   "cell_type": "markdown",
   "id": "b703a3a8",
   "metadata": {},
   "source": [
    "<hr>\n",
    "&copy; 2023 | Thomas Reimann\n",
    "<a rel=\"license\" href=\"http://creativecommons.org/licenses/by/4.0/\"><img style=\"float: right\" alt=\"Creative Commons Lizenzvertrag\" style=\"border-width:0\" src=\"https://i.creativecommons.org/l/by/4.0/88x31.png\" /></a>"
   ]
  }
 ],
 "metadata": {
  "celltoolbar": "Tags",
  "kernelspec": {
   "display_name": "Python 3 (ipykernel)",
   "language": "python",
   "name": "python3"
  },
  "language_info": {
   "codemirror_mode": {
    "name": "ipython",
    "version": 3
   },
   "file_extension": ".py",
   "mimetype": "text/x-python",
   "name": "python",
   "nbconvert_exporter": "python",
   "pygments_lexer": "ipython3",
   "version": "3.10.4"
  }
 },
 "nbformat": 4,
 "nbformat_minor": 5
}
