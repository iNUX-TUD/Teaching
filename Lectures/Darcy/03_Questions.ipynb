{
 "cells": [
  {
   "cell_type": "code",
   "execution_count": null,
   "id": "626d6e0d",
   "metadata": {},
   "outputs": [],
   "source": [
    "# Import necessary packages\n",
    "\n",
    "from jupyterquiz import display_quiz"
   ]
  },
  {
   "cell_type": "markdown",
   "id": "adb9c2d4",
   "metadata": {},
   "source": [
    "# Questions about your experiment"
   ]
  },
  {
   "cell_type": "code",
   "execution_count": null,
   "id": "cd08391d",
   "metadata": {},
   "outputs": [],
   "source": [
    "display_quiz(\"../QUESTIONS/Darcy.json\")"
   ]
  }
 ],
 "metadata": {
  "kernelspec": {
   "display_name": "Python 3 (ipykernel)",
   "language": "python",
   "name": "python3"
  },
  "language_info": {
   "codemirror_mode": {
    "name": "ipython",
    "version": 3
   },
   "file_extension": ".py",
   "mimetype": "text/x-python",
   "name": "python",
   "nbconvert_exporter": "python",
   "pygments_lexer": "ipython3",
   "version": "3.10.4"
  }
 },
 "nbformat": 4,
 "nbformat_minor": 5
}
